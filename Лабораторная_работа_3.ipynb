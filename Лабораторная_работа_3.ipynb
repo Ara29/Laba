{
  "cells": [
    {
      "cell_type": "markdown",
      "source": [
        "#Лабораторная работа 3"
      ],
      "metadata": {
        "id": "q_BLby65mHdg"
      }
    },
    {
      "cell_type": "markdown",
      "metadata": {
        "id": "tgJZ82Lyl6zp"
      },
      "source": [
        "Загрузим наш набор данных."
      ]
    },
    {
      "cell_type": "code",
      "execution_count": 1,
      "metadata": {
        "id": "syrPxgOnl6zy"
      },
      "outputs": [],
      "source": [
        "import seaborn as sns\n",
        "\n",
        "from sklearn.preprocessing import PolynomialFeatures\n",
        "from sklearn.linear_model import LogisticRegression, LogisticRegressionCV\n",
        "from sklearn.model_selection import cross_val_score, StratifiedKFold\n",
        "from sklearn.model_selection import GridSearchCV"
      ]
    },
    {
      "cell_type": "code",
      "execution_count": 2,
      "metadata": {
        "colab": {
          "base_uri": "https://localhost:8080/"
        },
        "id": "EdJB_qOvl6z1",
        "outputId": "87f6e9cd-2d62-4482-82a1-1ef6283b4ecd"
      },
      "outputs": [
        {
          "output_type": "stream",
          "name": "stdout",
          "text": [
            "<class 'pandas.core.frame.DataFrame'>\n",
            "RangeIndex: 101 entries, 0 to 100\n",
            "Data columns (total 16 columns):\n",
            " #   Column    Non-Null Count  Dtype\n",
            "---  ------    --------------  -----\n",
            " 0   hair      101 non-null    int64\n",
            " 1   feathers  101 non-null    int64\n",
            " 2   eggs      101 non-null    int64\n",
            " 3   milk      101 non-null    int64\n",
            " 4   airborne  101 non-null    int64\n",
            " 5   aquatic   101 non-null    int64\n",
            " 6   predator  101 non-null    int64\n",
            " 7   toothed   101 non-null    int64\n",
            " 8   backbone  101 non-null    int64\n",
            " 9   breathes  101 non-null    int64\n",
            " 10  venomous  101 non-null    int64\n",
            " 11  fins      101 non-null    int64\n",
            " 12  legs      101 non-null    int64\n",
            " 13  tail      101 non-null    int64\n",
            " 14  domestic  101 non-null    int64\n",
            " 15  catsize   101 non-null    int64\n",
            "dtypes: int64(16)\n",
            "memory usage: 12.8 KB\n"
          ]
        }
      ],
      "source": [
        "import numpy as np\n",
        "import pandas as pd\n",
        "import random\n",
        "import matplotlib.pyplot as plt\n",
        "%matplotlib inline\n",
        "from matplotlib.pylab import rcParams\n",
        "rcParams['figure.figsize'] = 12, 10\n",
        "\n",
        "data = pd.read_csv('zoo.csv')\n",
        "data = data.drop(['animal_name','class_type'], axis='columns')\n",
        "data.info()\n"
      ]
    },
    {
      "cell_type": "markdown",
      "metadata": {
        "id": "C3Bfy1ijl6z3"
      },
      "source": [
        "Посмотрим первые и последние 5 строк."
      ]
    },
    {
      "cell_type": "code",
      "execution_count": 3,
      "metadata": {
        "colab": {
          "base_uri": "https://localhost:8080/",
          "height": 226
        },
        "id": "Ew70trmMl6z4",
        "outputId": "7d4123aa-c5f3-4de3-b4fa-8c5de8880b15"
      },
      "outputs": [
        {
          "output_type": "execute_result",
          "data": {
            "text/html": [
              "<div>\n",
              "<style scoped>\n",
              "    .dataframe tbody tr th:only-of-type {\n",
              "        vertical-align: middle;\n",
              "    }\n",
              "\n",
              "    .dataframe tbody tr th {\n",
              "        vertical-align: top;\n",
              "    }\n",
              "\n",
              "    .dataframe thead th {\n",
              "        text-align: right;\n",
              "    }\n",
              "</style>\n",
              "<table border=\"1\" class=\"dataframe\">\n",
              "  <thead>\n",
              "    <tr style=\"text-align: right;\">\n",
              "      <th></th>\n",
              "      <th>hair</th>\n",
              "      <th>feathers</th>\n",
              "      <th>eggs</th>\n",
              "      <th>milk</th>\n",
              "      <th>airborne</th>\n",
              "      <th>aquatic</th>\n",
              "      <th>predator</th>\n",
              "      <th>toothed</th>\n",
              "      <th>backbone</th>\n",
              "      <th>breathes</th>\n",
              "      <th>venomous</th>\n",
              "      <th>fins</th>\n",
              "      <th>legs</th>\n",
              "      <th>tail</th>\n",
              "      <th>domestic</th>\n",
              "      <th>catsize</th>\n",
              "    </tr>\n",
              "  </thead>\n",
              "  <tbody>\n",
              "    <tr>\n",
              "      <th>0</th>\n",
              "      <td>1</td>\n",
              "      <td>0</td>\n",
              "      <td>0</td>\n",
              "      <td>1</td>\n",
              "      <td>0</td>\n",
              "      <td>0</td>\n",
              "      <td>1</td>\n",
              "      <td>1</td>\n",
              "      <td>1</td>\n",
              "      <td>1</td>\n",
              "      <td>0</td>\n",
              "      <td>0</td>\n",
              "      <td>4</td>\n",
              "      <td>0</td>\n",
              "      <td>0</td>\n",
              "      <td>1</td>\n",
              "    </tr>\n",
              "    <tr>\n",
              "      <th>1</th>\n",
              "      <td>1</td>\n",
              "      <td>0</td>\n",
              "      <td>0</td>\n",
              "      <td>1</td>\n",
              "      <td>0</td>\n",
              "      <td>0</td>\n",
              "      <td>0</td>\n",
              "      <td>1</td>\n",
              "      <td>1</td>\n",
              "      <td>1</td>\n",
              "      <td>0</td>\n",
              "      <td>0</td>\n",
              "      <td>4</td>\n",
              "      <td>1</td>\n",
              "      <td>0</td>\n",
              "      <td>1</td>\n",
              "    </tr>\n",
              "    <tr>\n",
              "      <th>2</th>\n",
              "      <td>0</td>\n",
              "      <td>0</td>\n",
              "      <td>1</td>\n",
              "      <td>0</td>\n",
              "      <td>0</td>\n",
              "      <td>1</td>\n",
              "      <td>1</td>\n",
              "      <td>1</td>\n",
              "      <td>1</td>\n",
              "      <td>0</td>\n",
              "      <td>0</td>\n",
              "      <td>1</td>\n",
              "      <td>0</td>\n",
              "      <td>1</td>\n",
              "      <td>0</td>\n",
              "      <td>0</td>\n",
              "    </tr>\n",
              "    <tr>\n",
              "      <th>3</th>\n",
              "      <td>1</td>\n",
              "      <td>0</td>\n",
              "      <td>0</td>\n",
              "      <td>1</td>\n",
              "      <td>0</td>\n",
              "      <td>0</td>\n",
              "      <td>1</td>\n",
              "      <td>1</td>\n",
              "      <td>1</td>\n",
              "      <td>1</td>\n",
              "      <td>0</td>\n",
              "      <td>0</td>\n",
              "      <td>4</td>\n",
              "      <td>0</td>\n",
              "      <td>0</td>\n",
              "      <td>1</td>\n",
              "    </tr>\n",
              "    <tr>\n",
              "      <th>4</th>\n",
              "      <td>1</td>\n",
              "      <td>0</td>\n",
              "      <td>0</td>\n",
              "      <td>1</td>\n",
              "      <td>0</td>\n",
              "      <td>0</td>\n",
              "      <td>1</td>\n",
              "      <td>1</td>\n",
              "      <td>1</td>\n",
              "      <td>1</td>\n",
              "      <td>0</td>\n",
              "      <td>0</td>\n",
              "      <td>4</td>\n",
              "      <td>1</td>\n",
              "      <td>0</td>\n",
              "      <td>1</td>\n",
              "    </tr>\n",
              "  </tbody>\n",
              "</table>\n",
              "</div>"
            ],
            "text/plain": [
              "   hair  feathers  eggs  milk  airborne  ...  fins  legs  tail  domestic  catsize\n",
              "0     1         0     0     1         0  ...     0     4     0         0        1\n",
              "1     1         0     0     1         0  ...     0     4     1         0        1\n",
              "2     0         0     1     0         0  ...     1     0     1         0        0\n",
              "3     1         0     0     1         0  ...     0     4     0         0        1\n",
              "4     1         0     0     1         0  ...     0     4     1         0        1\n",
              "\n",
              "[5 rows x 16 columns]"
            ]
          },
          "metadata": {},
          "execution_count": 3
        }
      ],
      "source": [
        "data.head(5)"
      ]
    },
    {
      "cell_type": "code",
      "execution_count": 4,
      "metadata": {
        "colab": {
          "base_uri": "https://localhost:8080/",
          "height": 226
        },
        "id": "ieH2qGlZl6z5",
        "outputId": "59daf459-976e-429d-d6dd-f8f79a5e2739"
      },
      "outputs": [
        {
          "output_type": "execute_result",
          "data": {
            "text/html": [
              "<div>\n",
              "<style scoped>\n",
              "    .dataframe tbody tr th:only-of-type {\n",
              "        vertical-align: middle;\n",
              "    }\n",
              "\n",
              "    .dataframe tbody tr th {\n",
              "        vertical-align: top;\n",
              "    }\n",
              "\n",
              "    .dataframe thead th {\n",
              "        text-align: right;\n",
              "    }\n",
              "</style>\n",
              "<table border=\"1\" class=\"dataframe\">\n",
              "  <thead>\n",
              "    <tr style=\"text-align: right;\">\n",
              "      <th></th>\n",
              "      <th>hair</th>\n",
              "      <th>feathers</th>\n",
              "      <th>eggs</th>\n",
              "      <th>milk</th>\n",
              "      <th>airborne</th>\n",
              "      <th>aquatic</th>\n",
              "      <th>predator</th>\n",
              "      <th>toothed</th>\n",
              "      <th>backbone</th>\n",
              "      <th>breathes</th>\n",
              "      <th>venomous</th>\n",
              "      <th>fins</th>\n",
              "      <th>legs</th>\n",
              "      <th>tail</th>\n",
              "      <th>domestic</th>\n",
              "      <th>catsize</th>\n",
              "    </tr>\n",
              "  </thead>\n",
              "  <tbody>\n",
              "    <tr>\n",
              "      <th>96</th>\n",
              "      <td>1</td>\n",
              "      <td>0</td>\n",
              "      <td>0</td>\n",
              "      <td>1</td>\n",
              "      <td>0</td>\n",
              "      <td>0</td>\n",
              "      <td>0</td>\n",
              "      <td>1</td>\n",
              "      <td>1</td>\n",
              "      <td>1</td>\n",
              "      <td>0</td>\n",
              "      <td>0</td>\n",
              "      <td>2</td>\n",
              "      <td>1</td>\n",
              "      <td>0</td>\n",
              "      <td>1</td>\n",
              "    </tr>\n",
              "    <tr>\n",
              "      <th>97</th>\n",
              "      <td>1</td>\n",
              "      <td>0</td>\n",
              "      <td>1</td>\n",
              "      <td>0</td>\n",
              "      <td>1</td>\n",
              "      <td>0</td>\n",
              "      <td>0</td>\n",
              "      <td>0</td>\n",
              "      <td>0</td>\n",
              "      <td>1</td>\n",
              "      <td>1</td>\n",
              "      <td>0</td>\n",
              "      <td>6</td>\n",
              "      <td>0</td>\n",
              "      <td>0</td>\n",
              "      <td>0</td>\n",
              "    </tr>\n",
              "    <tr>\n",
              "      <th>98</th>\n",
              "      <td>1</td>\n",
              "      <td>0</td>\n",
              "      <td>0</td>\n",
              "      <td>1</td>\n",
              "      <td>0</td>\n",
              "      <td>0</td>\n",
              "      <td>1</td>\n",
              "      <td>1</td>\n",
              "      <td>1</td>\n",
              "      <td>1</td>\n",
              "      <td>0</td>\n",
              "      <td>0</td>\n",
              "      <td>4</td>\n",
              "      <td>1</td>\n",
              "      <td>0</td>\n",
              "      <td>1</td>\n",
              "    </tr>\n",
              "    <tr>\n",
              "      <th>99</th>\n",
              "      <td>0</td>\n",
              "      <td>0</td>\n",
              "      <td>1</td>\n",
              "      <td>0</td>\n",
              "      <td>0</td>\n",
              "      <td>0</td>\n",
              "      <td>0</td>\n",
              "      <td>0</td>\n",
              "      <td>0</td>\n",
              "      <td>1</td>\n",
              "      <td>0</td>\n",
              "      <td>0</td>\n",
              "      <td>0</td>\n",
              "      <td>0</td>\n",
              "      <td>0</td>\n",
              "      <td>0</td>\n",
              "    </tr>\n",
              "    <tr>\n",
              "      <th>100</th>\n",
              "      <td>0</td>\n",
              "      <td>1</td>\n",
              "      <td>1</td>\n",
              "      <td>0</td>\n",
              "      <td>1</td>\n",
              "      <td>0</td>\n",
              "      <td>0</td>\n",
              "      <td>0</td>\n",
              "      <td>1</td>\n",
              "      <td>1</td>\n",
              "      <td>0</td>\n",
              "      <td>0</td>\n",
              "      <td>2</td>\n",
              "      <td>1</td>\n",
              "      <td>0</td>\n",
              "      <td>0</td>\n",
              "    </tr>\n",
              "  </tbody>\n",
              "</table>\n",
              "</div>"
            ],
            "text/plain": [
              "     hair  feathers  eggs  milk  airborne  ...  fins  legs  tail  domestic  catsize\n",
              "96      1         0     0     1         0  ...     0     2     1         0        1\n",
              "97      1         0     1     0         1  ...     0     6     0         0        0\n",
              "98      1         0     0     1         0  ...     0     4     1         0        1\n",
              "99      0         0     1     0         0  ...     0     0     0         0        0\n",
              "100     0         1     1     0         1  ...     0     2     1         0        0\n",
              "\n",
              "[5 rows x 16 columns]"
            ]
          },
          "metadata": {},
          "execution_count": 4
        }
      ],
      "source": [
        "data.tail(5)"
      ]
    },
    {
      "cell_type": "markdown",
      "metadata": {
        "id": "kebbprxNl6z-"
      },
      "source": [
        "# Логистическая регрессия на наших данных"
      ]
    },
    {
      "cell_type": "code",
      "execution_count": 5,
      "metadata": {
        "id": "qZi_s8J3l6z_"
      },
      "outputs": [],
      "source": [
        "from sklearn.linear_model import LogisticRegression\n",
        "from sklearn.model_selection import train_test_split\n",
        "\n",
        "X = data[data.columns[1:]]\n",
        "y = data['hair']\n",
        "\n",
        "X_train, X_test, y_train, y_test = train_test_split(X, y,test_size=0.3, random_state=0)\n",
        "model = LogisticRegression()\n",
        "model.fit(X_train, y_train)\n",
        "y_train_pred = model.predict(X_train)\n",
        "y_test_pred = model.predict(X_test)"
      ]
    },
    {
      "cell_type": "markdown",
      "metadata": {
        "id": "VyTlsFrJl6z_"
      },
      "source": [
        "Проверим ошибку"
      ]
    },
    {
      "cell_type": "code",
      "execution_count": 6,
      "metadata": {
        "colab": {
          "base_uri": "https://localhost:8080/"
        },
        "id": "SOtFv_u7l60B",
        "outputId": "a265f6d8-9976-4413-934b-949da8498d89"
      },
      "outputs": [
        {
          "output_type": "stream",
          "name": "stdout",
          "text": [
            "MAE train: 0.029, test: 0.032\n",
            "MSE train: 0.029, test: 0.032\n"
          ]
        }
      ],
      "source": [
        "from sklearn.metrics import mean_absolute_error, mean_squared_error\n",
        "\n",
        "print('MAE train: {:.3f}, test: {:.3f}'.format(\n",
        "        mean_absolute_error(y_train, y_train_pred),\n",
        "        mean_absolute_error(y_test, y_test_pred)))\n",
        "print('MSE train: {:.3f}, test: {:.3f}'.format(\n",
        "        mean_squared_error(y_train, y_train_pred),\n",
        "        mean_squared_error(y_test, y_test_pred)))"
      ]
    },
    {
      "cell_type": "markdown",
      "metadata": {
        "id": "f3uluOnCl60C"
      },
      "source": [
        "# 𝐿1 -регуляризация"
      ]
    },
    {
      "cell_type": "code",
      "execution_count": 7,
      "metadata": {
        "colab": {
          "base_uri": "https://localhost:8080/"
        },
        "id": "vs-JNV-_l60D",
        "outputId": "8bdd308b-c8f2-483d-8df0-9d7f5e0f2af7"
      },
      "outputs": [
        {
          "output_type": "stream",
          "name": "stdout",
          "text": [
            "Веса признаков:\n",
            "[-0.         -0.          0.39391749 -0.         -0.         -0.\n",
            "  0.          0.          0.          0.         -0.          0.06114613\n",
            " -0.          0.          0.        ]\n",
            "MAE train: 0.289, test: 0.241\n",
            "MSE train: 0.099, test: 0.074\n"
          ]
        }
      ],
      "source": [
        "from sklearn.linear_model import Lasso\n",
        "\n",
        "X1_train, X1_test, y1_train, y1_test = train_test_split(\n",
        "    X, y, test_size=0.3, random_state=0)\n",
        "lasso = Lasso(alpha=0.1)\n",
        "lasso.fit(X1_train, y1_train)\n",
        "y1_train_pred = lasso.predict(X1_train)\n",
        "y1_test_pred = lasso.predict(X1_test)\n",
        "print('Веса признаков:')\n",
        "print(lasso.coef_)\n",
        "\n",
        "print('MAE train: {:.3f}, test: {:.3f}'.format(\n",
        "        mean_absolute_error(y1_train, y1_train_pred),\n",
        "        mean_absolute_error(y1_test, y1_test_pred)))\n",
        "print('MSE train: {:.3f}, test: {:.3f}'.format(\n",
        "        mean_squared_error(y1_train, y1_train_pred),\n",
        "        mean_squared_error(y1_test, y1_test_pred)))"
      ]
    },
    {
      "cell_type": "markdown",
      "metadata": {
        "id": "Mlr8SakVl60D"
      },
      "source": [
        "По весам признаков видно, что значащими являются 3 и 12 признаки('milk', 'legs')"
      ]
    },
    {
      "cell_type": "markdown",
      "metadata": {
        "id": "O7nUMbRol60E"
      },
      "source": [
        "# L2- регуляризация"
      ]
    },
    {
      "cell_type": "markdown",
      "source": [
        "Линейный регрессор с L2-регуляризацией реализован в классе Ridge"
      ],
      "metadata": {
        "id": "VyA9bSqEm5fa"
      }
    },
    {
      "cell_type": "markdown",
      "source": [
        "Устанавливаем альфа (лямбда).При больших значениях альфа модель \"штрафуется\", т.е. ей не разрешается делать веса слишком большими, поэтому она в таком случае недообучается или находит ошибочную закономерность "
      ],
      "metadata": {
        "id": "wjirmxGEm4x_"
      }
    },
    {
      "cell_type": "code",
      "execution_count": 8,
      "metadata": {
        "scrolled": true,
        "colab": {
          "base_uri": "https://localhost:8080/"
        },
        "id": "rulh9NTdl60E",
        "outputId": "02807a24-d486-40d8-f2e5-b6b8caefb91e"
      },
      "outputs": [
        {
          "output_type": "stream",
          "name": "stdout",
          "text": [
            "Веса признаков:\n",
            "[-3.72249701e-02  4.61309865e-01  1.12617143e+00  2.47113329e-01\n",
            " -2.32348550e-01 -8.76665273e-02  2.63258166e-01 -3.30970498e-04\n",
            " -1.59846599e-01  3.56858072e-01 -3.34942361e-02  5.69824983e-02\n",
            " -1.36441224e-01 -3.47849188e-02  7.12381581e-02]\n",
            "MAE train: 0.121, test: 0.160\n",
            "MSE train: 0.029, test: 0.046\n"
          ]
        }
      ],
      "source": [
        "from sklearn.linear_model import Ridge\n",
        "\n",
        "X2_train, X2_test, y2_train, y2_test = train_test_split(\n",
        "    X, y, test_size=0.3, random_state=0)\n",
        "ridge = Ridge(alpha=0.1)\n",
        "ridge.fit(X2_train, y2_train)\n",
        "y2_train_pred = ridge.predict(X2_train)\n",
        "y2_test_pred = ridge.predict(X2_test)\n",
        "print('Веса признаков:')\n",
        "print(ridge.coef_)\n",
        "\n",
        "print('MAE train: {:.3f}, test: {:.3f}'.format(\n",
        "        mean_absolute_error(y2_train, y2_train_pred),\n",
        "        mean_absolute_error(y2_test, y2_test_pred)))\n",
        "print('MSE train: {:.3f}, test: {:.3f}'.format(\n",
        "        mean_squared_error(y2_train, y2_train_pred),\n",
        "        mean_squared_error(y2_test, y2_test_pred)))"
      ]
    },
    {
      "cell_type": "markdown",
      "source": [
        "В отличие от L2-регуляризации, L1 обнуляет веса при некоторых признака (из-за ромбообразных линий уровня L1-нормы)."
      ],
      "metadata": {
        "id": "de_ZPngDm-vB"
      }
    },
    {
      "cell_type": "markdown",
      "metadata": {
        "id": "NhGhXdkJl60G"
      },
      "source": [
        "Посмотрим как зависят коэффициенты от параметра альфа"
      ]
    },
    {
      "cell_type": "code",
      "execution_count": 9,
      "metadata": {
        "scrolled": false,
        "colab": {
          "base_uri": "https://localhost:8080/",
          "height": 1000
        },
        "id": "ej5VAi2Ul60G",
        "outputId": "68e3e917-a37e-488e-fe5a-c84af7c7b146"
      },
      "outputs": [
        {
          "output_type": "stream",
          "name": "stderr",
          "text": [
            "/usr/local/lib/python3.7/dist-packages/ipykernel_launcher.py:9: UserWarning: With alpha=0, this algorithm does not converge well. You are advised to use the LinearRegression estimator\n",
            "  if __name__ == '__main__':\n",
            "/usr/local/lib/python3.7/dist-packages/sklearn/linear_model/_coordinate_descent.py:648: UserWarning: Coordinate descent with no regularization may lead to unexpected results and is discouraged.\n",
            "  coef_, l1_reg, l2_reg, X, y, max_iter, tol, rng, random, positive\n",
            "/usr/local/lib/python3.7/dist-packages/sklearn/linear_model/_coordinate_descent.py:648: ConvergenceWarning: Objective did not converge. You might want to increase the number of iterations, check the scale of the features or consider increasing regularisation. Duality gap: 9.926e-01, tolerance: 1.737e-03 Linear regression models with null weight for the l1 regularization term are more efficiently fitted using one of the solvers implemented in sklearn.linear_model.Ridge/RidgeCV instead.\n",
            "  coef_, l1_reg, l2_reg, X, y, max_iter, tol, rng, random, positive\n"
          ]
        },
        {
          "output_type": "stream",
          "name": "stdout",
          "text": [
            "for alpha= [0]  lasso: [ 8.77307096e-02  6.45418963e-01  1.30961868e+00  2.25102493e-01\n",
            " -2.53068839e-01 -9.06901752e-02  3.64455510e-01 -1.02927531e-01\n",
            " -1.61450448e-01  4.15156039e-01 -1.22296625e-03  6.24124740e-02\n",
            " -1.29022422e-01 -4.60607462e-02  6.57646608e-02]\n",
            "for alpha= [0]  ridge: [ 8.77307096e-02  6.45418963e-01  1.30961868e+00  2.25102493e-01\n",
            " -2.53068839e-01 -9.06901752e-02  3.64455510e-01 -1.02927531e-01\n",
            " -1.61450448e-01  4.15156039e-01 -1.22296625e-03  6.24124740e-02\n",
            " -1.29022422e-01 -4.60607462e-02  6.57646608e-02]\n",
            "for alpha= [1]  lasso: [-0.         -0.          0.39391749 -0.         -0.         -0.\n",
            "  0.          0.          0.          0.         -0.          0.06114613\n",
            " -0.          0.          0.        ]\n",
            "for alpha= [1]  ridge: [-0.18146887  0.03322648  0.65826512  0.23748122 -0.16741229 -0.08487954\n",
            "  0.1461477   0.07223029 -0.09124926  0.18321188 -0.07184214  0.04933766\n",
            " -0.12429     0.00492207  0.09276134]\n",
            "for alpha= [2]  lasso: [-0.         -0.          0.         -0.         -0.         -0.\n",
            "  0.          0.          0.         -0.         -0.          0.04767812\n",
            "  0.          0.          0.        ]\n",
            "for alpha= [2]  ridge: [-0.17179487 -0.07348802  0.51566358  0.19691153 -0.14754343 -0.08429258\n",
            "  0.14033812  0.05284996 -0.04674277  0.12560545 -0.06021895  0.05086944\n",
            " -0.10996993  0.02033634  0.09725002]\n",
            "for alpha= [3]  lasso: [-0.        -0.         0.        -0.        -0.        -0.\n",
            "  0.         0.         0.         0.        -0.         0.0212502\n",
            "  0.         0.         0.       ]\n",
            "for alpha= [3]  ridge: [-0.1586372  -0.11714289  0.44385557  0.16482503 -0.13803812 -0.0830688\n",
            "  0.1382366   0.0420372  -0.02085529  0.09697897 -0.05016334  0.05293751\n",
            " -0.09914358  0.02828378  0.09787924]\n",
            "for alpha= [4]  lasso: [-0. -0.  0. -0. -0. -0.  0.  0.  0.  0. -0.  0.  0.  0.  0.]\n",
            "for alpha= [4]  ridge: [-0.14777405 -0.13912037  0.39853465  0.13993943 -0.13200561 -0.08146477\n",
            "  0.13632698  0.03622909 -0.00421609  0.07935564 -0.04311147  0.05484656\n",
            " -0.0902375   0.03301808  0.09744699]\n",
            "for alpha= [5]  lasso: [-0. -0.  0. -0. -0. -0.  0.  0.  0.  0. -0.  0.  0.  0.  0.]\n",
            "for alpha= [5]  ridge: [-0.13896677 -0.15123219  0.3664372   0.12024125 -0.12752653 -0.07965966\n",
            "  0.13441386  0.03300057  0.00718634  0.06720864 -0.03812849  0.05653527\n",
            " -0.08263495  0.03601534  0.09664561]\n",
            "for alpha= [6]  lasso: [-0. -0.  0. -0. -0. -0.  0.  0.  0.  0. -0.  0.  0.  0.  0.]\n",
            "for alpha= [6]  ridge: [-0.13168533 -0.15814065  0.34204442  0.10431218 -0.12387503 -0.07775814\n",
            "  0.13251375  0.03117252  0.01534738  0.05823182 -0.03449153  0.05802358\n",
            " -0.0760179   0.0379583   0.09570225]\n",
            "for alpha= [7]  lasso: [-0. -0.  0. -0. -0. -0.  0.  0.  0.  0. -0.  0.  0.  0.  0.]\n",
            "for alpha= [7]  ridge: [-0.12553093 -0.16203927  0.32260365  0.09119155 -0.12072345 -0.07582307\n",
            "  0.13064631  0.03014244  0.02137194  0.0512785  -0.03174574  0.05934013\n",
            " -0.07018751  0.03921534  0.09470499]\n",
            "for alpha= [8]  lasso: [-0. -0.  0. -0. -0. -0.  0.  0.  0.  0. -0.  0.  0.  0.  0.]\n",
            "for alpha= [8]  ridge: [-0.12022785 -0.16408384  0.30657054  0.08021591 -0.11790496 -0.07389322\n",
            "  0.1288217   0.02958254  0.02592095  0.04570806 -0.02960799  0.06051042\n",
            " -0.0650048   0.04000516  0.0936918 ]\n",
            "for alpha= [9]  lasso: [-0. -0.  0. -0. -0. -0.  0.  0.  0.  0. -0.  0.  0.  0.  0.]\n",
            "for alpha= [9]  ridge: [-0.11558461 -0.16493397  0.29300343  0.07091453 -0.11532661 -0.07199275\n",
            "  0.12704388  0.02930499  0.02941347  0.0411314  -0.02789804  0.06155543\n",
            " -0.06036606  0.04046635  0.09268018]\n",
            "for alpha= [10]  lasso: [-0. -0.  0. -0. -0. -0.  0.  0.  0.  0. -0.  0.  0.  0.  0.]\n",
            "for alpha= [10]  ridge: [-0.11146514 -0.16498929  0.28129129  0.06294455 -0.11293264 -0.07013663\n",
            "  0.12531364  0.0291977   0.03212752  0.03729686 -0.02649776  0.06249218\n",
            " -0.0561907   0.040691    0.0916785 ]\n",
            "for alpha= [11]  lasso: [-0. -0.  0. -0. -0. -0.  0.  0.  0.  0. -0.  0.  0.  0.  0.]\n",
            "for alpha= [11]  ridge: [-0.10777027 -0.1645033   0.27101804  0.05605048 -0.11068744 -0.06833393\n",
            "  0.12363025  0.02919172  0.03425441  0.03403352 -0.02532751  0.06333463\n",
            " -0.05241437  0.04074248  0.09069077]\n",
            "for alpha= [12]  lasso: [-0. -0.  0. -0. -0. -0.  0.  0.  0.  0. -0.  0.  0.  0.  0.]\n",
            "for alpha= [12]  ridge: [-0.10442584 -0.16364283  0.26188914  0.05003799 -0.10856693 -0.06658979\n",
            "  0.12199227  0.02924369  0.03592985  0.03122065 -0.0243321   0.06409426\n",
            " -0.04898465  0.04066571  0.08971889]\n",
            "for alpha= [13]  lasso: [-0. -0.  0. -0. -0. -0.  0.  0.  0.  0. -0.  0.  0.  0.  0.]\n",
            "for alpha= [13]  ridge: [-0.10137523 -0.16252098  0.25368937  0.04475662 -0.10655404 -0.06490675\n",
            "  0.12039799  0.02932594  0.03725251  0.02877021 -0.02347236  0.06478068\n",
            " -0.0458582   0.04049317  0.08876362]\n",
            "for alpha= [14]  lasso: [-0. -0.  0. -0. -0. -0.  0.  0.  0.  0. -0.  0.  0.  0.  0.]\n",
            "for alpha= [14]  ridge: [-0.09857425 -0.16121631  0.24625727  0.04008811 -0.10463609 -0.0632856\n",
            "  0.11884564  0.02942071  0.03829571  0.02661628 -0.02271987  0.06540199\n",
            " -0.04299877  0.04024885  0.08782518]\n",
            "for alpha= [15]  lasso: [-0. -0.  0. -0. -0. -0.  0.  0.  0.  0. -0.  0.  0.  0.  0.]\n",
            "for alpha= [15]  ridge: [-0.09598786 -0.15978449  0.23946899  0.03593816 -0.10280328 -0.06172596\n",
            "  0.11733348  0.02951656  0.03911493  0.02470838 -0.0220536   0.06596507\n",
            " -0.04037572  0.0399507   0.08690346]\n",
            "for alpha= [16]  lasso: [-0. -0.  0. -0. -0. -0.  0.  0.  0.  0. -0.  0.  0.  0.  0.]\n",
            "for alpha= [16]  ridge: [-0.09358782 -0.15826562  0.23322761  0.03223068 -0.1010478  -0.06022667\n",
            "  0.11585984  0.02960627  0.03975283  0.02300713 -0.0214577   0.06647585\n",
            " -0.03796293  0.03961235  0.08599823]\n",
            "for alpha= [17]  lasso: [-0. -0.  0. -0. -0. -0.  0.  0.  0.  0. -0.  0.  0.  0.  0.]\n",
            "for alpha= [17]  ridge: [-0.09135103 -0.15668899  0.22745609  0.02890358 -0.09936323 -0.05878608\n",
            "  0.11442314  0.02968532  0.04024268  0.02148127 -0.02092     0.06693944\n",
            " -0.03573802  0.03924421  0.08510918]\n",
            "for alpha= [18]  lasso: [-0. -0.  0. -0. -0. -0.  0.  0.  0.  0. -0.  0.  0.  0.  0.]\n",
            "for alpha= [18]  ridge: [-0.08925841 -0.15507623  0.22209222  0.02590574 -0.09774415 -0.05740219\n",
            "  0.1130219   0.02975109  0.04061074  0.02010565 -0.02043107  0.0673603\n",
            " -0.03368161  0.03885435  0.08423595]\n",
            "for alpha= [19]  lasso: [-0. -0.  0. -0. -0. -0.  0.  0.  0.  0. -0.  0.  0.  0.  0.]\n",
            "for alpha= [19]  ridge: [-0.08729397 -0.15344343  0.21708516  0.02319464 -0.09618593 -0.05607284\n",
            "  0.11165472  0.02980215  0.04087797  0.01885978 -0.01998344  0.06774234\n",
            " -0.03177688  0.03844906  0.08337819]\n",
            "for alpha= [20]  lasso: [-0. -0.  0. -0. -0. -0.  0.  0.  0.  0. -0.  0.  0.  0.  0.]\n",
            "for alpha= [20]  ridge: [-0.08544422 -0.15180266  0.21239284  0.02073465 -0.0946845  -0.05479579\n",
            "  0.11032029  0.02983794  0.04106127  0.01772677 -0.01957117  0.06808899\n",
            " -0.03000915  0.03803323  0.08253555]\n",
            "for alpha= [21]  lasso: [-0. -0.  0. -0. -0. -0.  0.  0.  0.  0. -0.  0.  0.  0.  0.]\n",
            "for alpha= [21]  ridge: [-0.08369766 -0.15016302  0.2079801   0.0184957  -0.0932363  -0.05356873\n",
            "  0.10901738  0.02985844  0.04117436  0.01669256 -0.01918943  0.0684033\n",
            " -0.02836553  0.03761074  0.08170769]\n",
            "for alpha= [22]  lasso: [-0. -0.  0. -0. -0. -0.  0.  0.  0.  0. -0.  0.  0.  0.  0.]\n",
            "for alpha= [22]  ridge: [-0.08204441 -0.14853134  0.2038173   0.01645223 -0.0918381  -0.05238941\n",
            "  0.10774482  0.02986398  0.04122851  0.01574534 -0.01883429  0.06868797\n",
            " -0.02683466  0.03718464  0.08089427]\n",
            "for alpha= [23]  lasso: [-0. -0.  0. -0. -0. -0.  0.  0.  0.  0. -0.  0.  0.  0.  0.]\n",
            "for alpha= [23]  ridge: [-0.08047593 -0.14691279  0.1998792   0.01458239 -0.09048703 -0.05125559\n",
            "  0.10650151  0.02985515  0.04123299  0.01487515 -0.01850251  0.06894541\n",
            " -0.02540648  0.03675733  0.08009496]\n",
            "for alpha= [24]  lasso: [-0. -0.  0. -0. -0. -0.  0.  0.  0.  0. -0.  0.  0.  0.  0.]\n",
            "for alpha= [24]  ridge: [-0.07898478 -0.14531125  0.19614417  0.01286738 -0.08918046 -0.05016512\n",
            "  0.10528642  0.02983265  0.04119553  0.01407345 -0.01819139  0.0691778\n",
            " -0.02407208  0.03633072  0.07930947]\n",
            "for alpha= [25]  lasso: [-0. -0.  0. -0. -0. -0.  0.  0.  0.  0. -0.  0.  0.  0.  0.]\n",
            "for alpha= [25]  ridge: [-0.07756443 -0.14372959  0.19259353  0.01129094 -0.087916   -0.04911592\n",
            "  0.10409856  0.0297973   0.04112256  0.01333294 -0.01789864  0.06938707\n",
            " -0.0228235   0.0359063   0.07853748]\n",
            "for alpha= [26]  lasso: [-0. -0.  0. -0. -0. -0.  0.  0.  0.  0. -0.  0.  0.  0.  0.]\n",
            "for alpha= [26]  ridge: [-0.07620915 -0.14216995  0.18921106  0.00983896 -0.08669143 -0.048106\n",
            "  0.102937    0.02974994  0.04101951  0.01264731 -0.01762235  0.06957498\n",
            " -0.02165363  0.03548526  0.0777787 ]\n",
            "for alpha= [27]  lasso: [-0. -0.  0. -0. -0. -0.  0.  0.  0.  0. -0.  0.  0.  0.  0.]\n",
            "for alpha= [27]  ridge: [-0.07491384 -0.14063384  0.18598256  0.0084991  -0.08550474 -0.04713345\n",
            "  0.10180085  0.0296914   0.04089093  0.01201109 -0.01736087  0.0697431\n",
            " -0.0205561   0.03506854  0.07703286]\n",
            "for alpha= [28]  lasso: [-0. -0.  0. -0. -0. -0.  0.  0.  0.  0. -0.  0.  0.  0.  0.]\n",
            "for alpha= [28]  ridge: [-0.07367398 -0.13912235  0.18289556  0.00726056 -0.08435405 -0.04619647\n",
            "  0.10068927  0.02962253  0.0407407   0.0114195  -0.01711279  0.0698929\n",
            " -0.01952519  0.03465684  0.07629966]\n",
            "for alpha= [29]  lasso: [-0. -0.  0. -0. -0. -0.  0.  0.  0.  0. -0.  0.  0.  0.  0.]\n",
            "for alpha= [29]  ridge: [-0.07248553 -0.13763618  0.17993903  0.00611382 -0.08323761 -0.04529333\n",
            "  0.09960146  0.02954413  0.04057212  0.01086836 -0.01687687  0.07002565\n",
            " -0.01855572  0.03425073  0.07557885]\n",
            "for alpha= [30]  lasso: [-0. -0.  0. -0. -0. -0.  0.  0.  0.  0. -0.  0.  0.  0.  0.]\n",
            "for alpha= [30]  ridge: [-0.07134488 -0.13617576  0.1771032   0.0050505  -0.0821538  -0.0444224\n",
            "  0.09853665  0.02945698  0.040388    0.01035396 -0.01665207  0.07014257\n",
            " -0.01764303  0.03385063  0.07487016]\n",
            "for alpha= [31]  lasso: [-0. -0.  0. -0. -0. -0.  0.  0.  0.  0. -0.  0.  0.  0.  0.]\n",
            "for alpha= [31]  ridge: [-0.07024874 -0.13474128  0.17437934  0.00406314 -0.08110111 -0.04358215\n",
            "  0.0974941   0.02936182  0.04019075  0.00987306 -0.01643745  0.07024474\n",
            " -0.0167829   0.03345685  0.07417334]\n",
            "for alpha= [32]  lasso: [-0. -0.  0. -0. -0. -0.  0.  0.  0.  0. -0.  0.  0.  0.  0.]\n",
            "for alpha= [32]  ridge: [-0.06919419 -0.13333278  0.17175963  0.00314511 -0.08007813 -0.0427711\n",
            "  0.09647312  0.02925934  0.03998244  0.00942276 -0.01623218  0.07033316\n",
            " -0.01597149  0.03306961  0.07348814]\n",
            "for alpha= [33]  lasso: [-0. -0.  0. -0. -0. -0.  0.  0.  0.  0. -0.  0.  0.  0.  0.]\n",
            "for alpha= [33]  ridge: [-0.06817854 -0.13195016  0.16923706  0.00229051 -0.07908354 -0.04198789\n",
            "  0.09547304  0.0291502   0.03976487  0.00900049 -0.01603554  0.07040873\n",
            " -0.0152053   0.03268906  0.0728143 ]\n",
            "for alpha= [34]  lasso: [-0. -0.  0. -0. -0. -0.  0.  0.  0.  0. -0.  0.  0.  0.  0.]\n",
            "for alpha= [34]  ridge: [-0.06719937 -0.1305932   0.16680527  0.00149405 -0.0781161  -0.0412312\n",
            "  0.09449322  0.029035    0.03953958  0.00860394 -0.01584689  0.07047231\n",
            " -0.01448117  0.0323153   0.0721516 ]\n",
            "for alpha= [35]  lasso: [-0. -0.  0. -0. -0. -0.  0.  0.  0.  0. -0.  0.  0.  0.  0.]\n",
            "for alpha= [35]  ridge: [-0.06625447 -0.1292616   0.16445855  0.00075098 -0.07717463 -0.0404998\n",
            "  0.09353304  0.02891433  0.0393079   0.00823106 -0.01566565  0.07052466\n",
            " -0.01379618  0.03194837  0.0714998 ]\n",
            "for alpha= [36]  lasso: [-0. -0.  0. -0. -0. -0.  0.  0.  0.  0. -0.  0.  0.  0.  0.]\n",
            "for alpha= [36]  ridge: [-6.53418132e-02 -1.27955018e-01  1.62191684e-01  5.70436389e-05\n",
            " -7.62580496e-02 -3.97925281e-02  9.25919189e-02  2.87887133e-02\n",
            "  3.90709974e-02  7.87997898e-03 -1.54912976e-02  7.05664983e-02\n",
            " -1.31476835e-02  3.15882774e-02  7.08586680e-02]\n",
            "for alpha= [37]  lasso: [-0. -0.  0. -0. -0. -0.  0.  0.  0.  0. -0.  0.  0.  0.  0.]\n",
            "for alpha= [37]  ridge: [-0.06445955 -0.12667304  0.15999992 -0.00059161 -0.07536532 -0.03910828\n",
            "  0.09166929  0.02865864  0.03882988  0.00754904 -0.01532338  0.07059848\n",
            " -0.01253324  0.03123499  0.07022798]\n",
            "for alpha= [38]  lasso: [-0. -0.  0. -0. -0. -0.  0.  0.  0.  0. -0.  0.  0.  0.  0.]\n",
            "for alpha= [38]  ridge: [-0.06360596 -0.12541522  0.15787894 -0.00119847 -0.07449548 -0.03844602\n",
            "  0.09076461  0.02852456  0.03858541  0.00723674 -0.01516146  0.07062123\n",
            " -0.01195061  0.03088847  0.06960752]\n",
            "for alpha= [39]  lasso: [-0. -0.  0. -0. -0. -0.  0.  0.  0.  0. -0.  0.  0.  0.  0.]\n",
            "for alpha= [39]  ridge: [-0.0627795  -0.1241811   0.15582476 -0.00176668 -0.0736476  -0.03780477\n",
            "  0.08987735  0.02838692  0.03833837  0.00694169 -0.01500518  0.07063529\n",
            " -0.01139774  0.03054864  0.06899707]\n",
            "for alpha= [40]  lasso: [-0. -0.  0. -0. -0. -0.  0.  0.  0.  0. -0.  0.  0.  0.  0.]\n",
            "for alpha= [40]  ridge: [-0.06197872 -0.1229702   0.15383375 -0.0022991  -0.07282081 -0.03718359\n",
            "  0.08900703  0.02824609  0.03808943  0.00666267 -0.01485417  0.07064121\n",
            " -0.01087275  0.03021541  0.06839643]\n",
            "for alpha= [41]  lasso: [-0. -0.  0. -0. -0. -0.  0.  0.  0.  0. -0.  0.  0.  0.  0.]\n",
            "for alpha= [41]  ridge: [-0.06120227 -0.121782    0.15190255 -0.00279834 -0.0720143  -0.0365816\n",
            "  0.08815316  0.02810244  0.03783915  0.00639855 -0.01470814  0.07063946\n",
            " -0.01037389  0.02988868  0.06780538]\n",
            "for alpha= [42]  lasso: [-0. -0.  0. -0. -0. -0.  0.  0.  0.  0. -0.  0.  0.  0.  0.]\n",
            "for alpha= [42]  ridge: [-0.06044892 -0.12061602  0.15002806 -0.00326676 -0.07122729 -0.03599798\n",
            "  0.08731527  0.0279563   0.03758805  0.00614829 -0.01456678  0.07063049\n",
            " -0.00989954  0.02956835  0.06722373]\n",
            "for alpha= [43]  lasso: [-0. -0.  0. -0. -0. -0.  0.  0.  0.  0. -0.  0.  0.  0.  0.]\n",
            "for alpha= [43]  ridge: [-0.05971752 -0.11947175  0.14820743 -0.00370654 -0.07045905 -0.03543193\n",
            "  0.08649293  0.02780798  0.03733658  0.00591095 -0.01442984  0.07061474\n",
            " -0.00944822  0.0292543   0.06665127]\n",
            "for alpha= [44]  lasso: [-0. -0.  0. -0. -0. -0.  0.  0.  0.  0. -0.  0.  0.  0.  0.]\n",
            "for alpha= [44]  ridge: [-0.05900701 -0.11834868  0.146438   -0.00411965 -0.06970886 -0.03488271\n",
            "  0.0856857   0.02765778  0.03708512  0.00568568 -0.01429707  0.07059259\n",
            " -0.00901855  0.02894641  0.06608782]\n",
            "for alpha= [45]  lasso: [-0. -0.  0. -0. -0. -0.  0.  0.  0.  0. -0.  0.  0.  0.  0.]\n",
            "for alpha= [45]  ridge: [-0.05831638 -0.11724631  0.14471732 -0.00450792 -0.06897608 -0.03434962\n",
            "  0.08489317  0.02750594  0.03683401  0.00547169 -0.01416824  0.07056442\n",
            " -0.00860925  0.02864454  0.06553319]\n",
            "for alpha= [46]  lasso: [-0. -0.  0. -0. -0. -0.  0.  0.  0.  0. -0.  0.  0.  0.  0.]\n",
            "for alpha= [46]  ridge: [-0.05764472 -0.11616414  0.14304309 -0.004873   -0.06826007 -0.03383199\n",
            "  0.08411494  0.02735271  0.03658355  0.00526824 -0.01404316  0.07053055\n",
            " -0.00821913  0.02834858  0.0649872 ]\n",
            "for alpha= [47]  lasso: [-0. -0.  0. -0. -0. -0.  0.  0.  0.  0. -0.  0.  0.  0.  0.]\n",
            "for alpha= [47]  ridge: [-0.05699116 -0.11510169  0.14141319 -0.00521644 -0.06756024 -0.03332918\n",
            "  0.08335064  0.02719832  0.03633399  0.00507468 -0.01392163  0.07049133\n",
            " -0.0078471   0.02805839  0.06444966]\n",
            "for alpha= [48]  lasso: [-0. -0.  0. -0. -0. -0.  0.  0.  0.  0. -0.  0.  0.  0.  0.]\n",
            "for alpha= [48]  ridge: [-0.05635488 -0.11405846  0.13982563 -0.00553963 -0.06687601 -0.03284059\n",
            "  0.08259989  0.02704297  0.03608556  0.00489039 -0.01380346  0.07044705\n",
            " -0.00749213  0.02777384  0.06392039]\n",
            "for alpha= [49]  lasso: [-0. -0.  0. -0. -0. -0.  0.  0.  0.  0. -0.  0.  0.  0.  0.]\n",
            "for alpha= [49]  ridge: [-0.05573512 -0.113034    0.13827855 -0.00584389 -0.06620685 -0.03236565\n",
            "  0.08186233  0.02688684  0.03583845  0.0047148  -0.01368851  0.07039798\n",
            " -0.00715326  0.0274948   0.06339924]\n"
          ]
        },
        {
          "output_type": "display_data",
          "data": {
            "image/png": "[encoded data removed]",
            "text/plain": [
              "<Figure size 1152x504 with 1 Axes>"
            ]
          },
          "metadata": {
            "needs_background": "light"
          }
        },
        {
          "output_type": "display_data",
          "data": {
            "image/png": "[encoded data removed]",
            "text/plain": [
              "<Figure size 864x720 with 1 Axes>"
            ]
          },
          "metadata": {
            "needs_background": "light"
          }
        }
      ],
      "source": [
        "import matplotlib.pyplot as plt\n",
        "coefsLasso = []\n",
        "coefsRidge = []\n",
        "# Создаздим массивы по 200 значений для коэфициентов \n",
        "alphasLasso = np.arange (0, 5, 0.1)\n",
        "alphasRidge = np.arange (0, 50, 1)\n",
        "for i in range(50):\n",
        "    lasso = Lasso(alpha=alphasLasso[i])\n",
        "    lasso.fit(X1_train, y1_train)\n",
        "    coefsLasso.append(lasso.coef_)\n",
        "    ridge = Ridge(alpha=alphasRidge[i])\n",
        "    ridge.fit(X2_train, y2_train)\n",
        "    coefsRidge.append(ridge.coef_[0])\n",
        "    print('for alpha=', [i], ' lasso:', lasso.coef_)\n",
        "    print('for alpha=', [i], ' ridge:', ridge.coef_)\n",
        "    \n",
        "\n",
        "# Build Lasso and Ridge coefficient plots\n",
        "plt.figure(figsize = (16,7))\n",
        "\n",
        "plt.plot(alphasLasso, coefsLasso)\n",
        "plt.title('Lasso coefficients')\n",
        "plt.xlabel('alpha')\n",
        "plt.ylabel('coefs')\n",
        "plt.show()\n",
        "\n",
        "plt.plot(alphasRidge, coefsRidge)\n",
        "plt.title('Ridge coefficients')\n",
        "plt.xlabel('alpha')\n",
        "plt.ylabel('coefs')\n",
        "plt.show()\n",
        "\n",
        "plt.show()"
      ]
    },
    {
      "cell_type": "markdown",
      "metadata": {
        "id": "E__2RV2zl60H"
      },
      "source": [
        "Для L1 регуляризации лучше всего брать С=0.01"
      ]
    },
    {
      "cell_type": "code",
      "execution_count": 10,
      "metadata": {
        "colab": {
          "base_uri": "https://localhost:8080/"
        },
        "id": "uw29fDhgl60H",
        "outputId": "7509cdc9-8c25-48a5-c92c-f1f58e2626d9"
      },
      "outputs": [
        {
          "output_type": "stream",
          "name": "stdout",
          "text": [
            "Веса признаков:\n",
            "[-0.10999841 -0.          0.73259386  0.1091088  -0.11317093 -0.05662076\n",
            "  0.01490667 -0.         -0.          0.00385148 -0.          0.05408795\n",
            " -0.04544208  0.          0.        ]\n",
            "MAE train: 0.144, test: 0.116\n",
            "MSE train: 0.043, test: 0.027\n"
          ]
        }
      ],
      "source": [
        "from sklearn.linear_model import Lasso\n",
        "\n",
        "X1_train, X1_test, y1_train, y1_test = train_test_split(\n",
        "    X, y, test_size=0.3, random_state=0)\n",
        "lasso = Lasso(alpha=0.01)\n",
        "lasso.fit(X1_train, y1_train)\n",
        "y1_train_pred = lasso.predict(X1_train)\n",
        "y1_test_pred = lasso.predict(X1_test)\n",
        "print('Веса признаков:')\n",
        "print(lasso.coef_)\n",
        "\n",
        "print('MAE train: {:.3f}, test: {:.3f}'.format(\n",
        "        mean_absolute_error(y1_train, y1_train_pred),\n",
        "        mean_absolute_error(y1_test, y1_test_pred)))\n",
        "print('MSE train: {:.3f}, test: {:.3f}'.format(\n",
        "        mean_squared_error(y1_train, y1_train_pred),\n",
        "        mean_squared_error(y1_test, y1_test_pred)))"
      ]
    },
    {
      "cell_type": "markdown",
      "metadata": {
        "id": "Cbnsws5Xl60I"
      },
      "source": [
        "Для L2 регуляризации лучше всего брать С=0.01 "
      ]
    },
    {
      "cell_type": "code",
      "execution_count": 11,
      "metadata": {
        "colab": {
          "base_uri": "https://localhost:8080/"
        },
        "id": "OklPQnVgl60I",
        "outputId": "ed951196-07da-4704-cce6-a9978adce279"
      },
      "outputs": [
        {
          "output_type": "stream",
          "name": "stdout",
          "text": [
            "Веса признаков:\n",
            "[ 0.07003432  0.6214928   1.28610543  0.22836252 -0.25058769 -0.09024752\n",
            "  0.349943   -0.08774266 -0.16180394  0.40795767 -0.00560233  0.06168031\n",
            " -0.13029744 -0.04472175  0.06633503]\n",
            "MAE train: 0.116, test: 0.169\n",
            "MSE train: 0.028, test: 0.052\n"
          ]
        }
      ],
      "source": [
        "from sklearn.linear_model import Ridge\n",
        "\n",
        "X2_train, X2_test, y2_train, y2_test = train_test_split(\n",
        "    X, y, test_size=0.3, random_state=0)\n",
        "ridge = Ridge(alpha=0.01)\n",
        "ridge.fit(X2_train, y2_train)\n",
        "y2_train_pred = ridge.predict(X2_train)\n",
        "y2_test_pred = ridge.predict(X2_test)\n",
        "print('Веса признаков:')\n",
        "print(ridge.coef_)\n",
        "\n",
        "print('MAE train: {:.3f}, test: {:.3f}'.format(\n",
        "        mean_absolute_error(y2_train, y2_train_pred),\n",
        "        mean_absolute_error(y2_test, y2_test_pred)))\n",
        "print('MSE train: {:.3f}, test: {:.3f}'.format(\n",
        "        mean_squared_error(y2_train, y2_train_pred),\n",
        "        mean_squared_error(y2_test, y2_test_pred)))"
      ]
    },
    {
      "cell_type": "code",
      "execution_count": 12,
      "metadata": {
        "colab": {
          "base_uri": "https://localhost:8080/"
        },
        "id": "QtEOoAwRl60J",
        "outputId": "a6aaa5af-27ef-4722-e88c-d1b8c35bee7b"
      },
      "outputs": [
        {
          "output_type": "stream",
          "name": "stdout",
          "text": [
            "Веса признаков:\n",
            "[-0.05513119 -0.11202784  0.13677021 -0.0061304  -0.06555223 -0.03190382\n",
            "  0.08113762  0.02673012  0.03559283  0.00454739 -0.01357661  0.07034441\n",
            " -0.00682961  0.02722114  0.06288602]\n",
            "MAE train: 0.274, test: 0.232\n",
            "MSE train: 0.095, test: 0.075\n"
          ]
        }
      ],
      "source": [
        "from sklearn.linear_model import Ridge\n",
        "\n",
        "X2_train, X2_test, y2_train, y2_test = train_test_split(\n",
        "    X, y, test_size=0.3, random_state=0)\n",
        "ridge = Ridge(alpha=50)\n",
        "ridge.fit(X2_train, y2_train)\n",
        "y2_train_pred = ridge.predict(X2_train)\n",
        "y2_test_pred = ridge.predict(X2_test)\n",
        "print('Веса признаков:')\n",
        "print(ridge.coef_)\n",
        "\n",
        "print('MAE train: {:.3f}, test: {:.3f}'.format(\n",
        "        mean_absolute_error(y2_train, y2_train_pred),\n",
        "        mean_absolute_error(y2_test, y2_test_pred)))\n",
        "print('MSE train: {:.3f}, test: {:.3f}'.format(\n",
        "        mean_squared_error(y2_train, y2_train_pred),\n",
        "        mean_squared_error(y2_test, y2_test_pred)))"
      ]
    },
    {
      "cell_type": "code",
      "execution_count": null,
      "metadata": {
        "id": "PL4bGS-Cl60J"
      },
      "outputs": [],
      "source": [
        ""
      ]
    }
  ],
  "metadata": {
    "kernelspec": {
      "display_name": "Python 3",
      "language": "python",
      "name": "python3"
    },
    "language_info": {
      "codemirror_mode": {
        "name": "ipython",
        "version": 3
      },
      "file_extension": ".py",
      "mimetype": "text/x-python",
      "name": "python",
      "nbconvert_exporter": "python",
      "pygments_lexer": "ipython3",
      "version": "3.8.5"
    },
    "colab": {
      "name": "Лабораторная работа 3.ipynb",
      "provenance": []
    }
  },
  "nbformat": 4,
  "nbformat_minor": 0
}